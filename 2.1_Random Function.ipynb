{
 "cells": [
  {
   "cell_type": "markdown",
   "metadata": {},
   "source": [
    "### Random\n"
   ]
  },
  {
   "cell_type": "markdown",
   "metadata": {},
   "source": [
    "---"
   ]
  },
  {
   "cell_type": "markdown",
   "metadata": {},
   "source": [
    "#### Agenda:\n",
    " \n",
    "   * Using **`` rand ``** operand to create random float numbers\n",
    "   \n",
    "   \n",
    "   * Using **`` set_printoptions ``** ito set precision of decimal places\n",
    "   \n",
    "   \n",
    "   * Using **`` randint ``** perand to create random interger numbers\n",
    "   \n",
    "   \n",
    "   * Using **`` random.shuffle ``** to randomly shuffle the elements in the array\n",
    "   \n",
    "   \n",
    "   * Using **`` seed ``** so that it will give the same ranom number and for reproducibility\n",
    "   \n",
    "    \n",
    "  "
   ]
  },
  {
   "cell_type": "markdown",
   "metadata": {},
   "source": [
    "---"
   ]
  },
  {
   "cell_type": "code",
   "execution_count": 1,
   "metadata": {},
   "outputs": [],
   "source": [
    "import numpy as np"
   ]
  },
  {
   "cell_type": "code",
   "execution_count": 2,
   "metadata": {},
   "outputs": [
    {
     "data": {
      "text/plain": [
       "array([[0.69177333, 0.00354538, 0.51314799, 0.34174242],\n",
       "       [0.56328754, 0.32668433, 0.05908549, 0.85067294],\n",
       "       [0.91799525, 0.66218441, 0.62075181, 0.71665176]])"
      ]
     },
     "execution_count": 2,
     "metadata": {},
     "output_type": "execute_result"
    }
   ],
   "source": [
    "# Create a multi-dimensional array\n",
    "\n",
    "np.random.rand(3,4)"
   ]
  },
  {
   "cell_type": "code",
   "execution_count": 3,
   "metadata": {},
   "outputs": [],
   "source": [
    "# Set the decimal precision to 3\n",
    "\n",
    "np.set_printoptions(precision=3)"
   ]
  },
  {
   "cell_type": "code",
   "execution_count": 4,
   "metadata": {},
   "outputs": [
    {
     "data": {
      "text/plain": [
       "array([[0.179, 0.228, 0.641, 0.024],\n",
       "       [0.497, 0.431, 0.918, 0.183],\n",
       "       [0.949, 0.488, 0.333, 0.758]])"
      ]
     },
     "execution_count": 4,
     "metadata": {},
     "output_type": "execute_result"
    }
   ],
   "source": [
    "# Check if if now use the 3 precision\n",
    "\n",
    "np.random.rand(3,4)"
   ]
  },
  {
   "cell_type": "code",
   "execution_count": 5,
   "metadata": {},
   "outputs": [
    {
     "data": {
      "text/plain": [
       "array([[ 1, 27, 12, 28, 13,  3],\n",
       "       [15, 16, 17, 24, 11, 11],\n",
       "       [18, 11, 10,  3,  2,  5],\n",
       "       [10, 26,  1, 22,  5,  5],\n",
       "       [ 3,  8, 28, 21, 21, 16]])"
      ]
     },
     "execution_count": 5,
     "metadata": {},
     "output_type": "execute_result"
    }
   ],
   "source": [
    "# Create a random numbers from 0 to 29 and with 5x6 size.\n",
    "\n",
    "np.random.randint(30, size = (5,6))"
   ]
  },
  {
   "cell_type": "code",
   "execution_count": 6,
   "metadata": {},
   "outputs": [
    {
     "data": {
      "text/plain": [
       "array([10, 14, 16, 15, 28, 23, 21])"
      ]
     },
     "execution_count": 6,
     "metadata": {},
     "output_type": "execute_result"
    }
   ],
   "source": [
    "# Create 7 numbers from 0 to 29\n",
    "\n",
    "np.random.randint(0,30,7)"
   ]
  },
  {
   "cell_type": "code",
   "execution_count": 7,
   "metadata": {},
   "outputs": [
    {
     "data": {
      "text/plain": [
       "array([ 0,  1,  2,  3,  4,  5,  6,  7,  8,  9, 10, 11, 12, 13, 14, 15, 16,\n",
       "       17, 18, 19, 20, 21, 22, 23, 24, 25, 26, 27, 28, 29, 30, 31, 32, 33,\n",
       "       34, 35, 36, 37, 38, 39, 40, 41, 42, 43, 44, 45, 46, 47, 48, 49, 50,\n",
       "       51, 52, 53, 54, 55, 56, 57, 58, 59, 60, 61, 62, 63, 64, 65, 66, 67,\n",
       "       68, 69, 70, 71, 72, 73, 74, 75, 76, 77, 78, 79, 80, 81, 82, 83, 84,\n",
       "       85, 86, 87, 88, 89, 90, 91, 92, 93, 94, 95, 96, 97, 98, 99])"
      ]
     },
     "execution_count": 7,
     "metadata": {},
     "output_type": "execute_result"
    }
   ],
   "source": [
    "arr_1 = np.arange(100)\n",
    "arr_1"
   ]
  },
  {
   "cell_type": "code",
   "execution_count": 8,
   "metadata": {},
   "outputs": [],
   "source": [
    "np.random.shuffle(arr_1)"
   ]
  },
  {
   "cell_type": "code",
   "execution_count": 9,
   "metadata": {},
   "outputs": [
    {
     "data": {
      "text/plain": [
       "array([77, 20, 80,  9, 42, 63, 90, 49, 81, 30,  5, 44, 16, 76,  6, 70, 96,\n",
       "       94, 34, 14, 89, 79,  7, 67, 82, 60,  8, 24, 72, 88, 69, 17, 86, 98,\n",
       "       62, 41, 85, 54, 78, 26, 58, 61, 68, 91, 95,  3, 23, 83, 74, 87, 51,\n",
       "        0, 31, 73, 22, 93, 39, 99, 38, 92, 71, 97, 27, 37,  2, 48, 40, 11,\n",
       "       53, 10, 55, 12, 36, 47,  1, 75, 45, 43, 15, 33, 13, 25, 46, 56,  4,\n",
       "       50, 32, 84, 52, 21, 65, 19, 66, 59, 29, 18, 35, 57, 64, 28])"
      ]
     },
     "execution_count": 9,
     "metadata": {},
     "output_type": "execute_result"
    }
   ],
   "source": [
    "arr_1"
   ]
  },
  {
   "cell_type": "code",
   "execution_count": 10,
   "metadata": {},
   "outputs": [],
   "source": [
    "# Use of seed\n",
    "\n",
    "np.random.seed(2)"
   ]
  },
  {
   "cell_type": "code",
   "execution_count": 11,
   "metadata": {},
   "outputs": [
    {
     "data": {
      "text/plain": [
       "array([[0.436, 0.026, 0.55 ],\n",
       "       [0.435, 0.42 , 0.33 ],\n",
       "       [0.205, 0.619, 0.3  ]])"
      ]
     },
     "execution_count": 11,
     "metadata": {},
     "output_type": "execute_result"
    }
   ],
   "source": [
    "np.random.rand(3,3)"
   ]
  },
  {
   "cell_type": "code",
   "execution_count": null,
   "metadata": {},
   "outputs": [],
   "source": []
  }
 ],
 "metadata": {
  "kernelspec": {
   "display_name": "Python 3",
   "language": "python",
   "name": "python3"
  },
  "language_info": {
   "codemirror_mode": {
    "name": "ipython",
    "version": 3
   },
   "file_extension": ".py",
   "mimetype": "text/x-python",
   "name": "python",
   "nbconvert_exporter": "python",
   "pygments_lexer": "ipython3",
   "version": "3.6.5"
  }
 },
 "nbformat": 4,
 "nbformat_minor": 2
}
